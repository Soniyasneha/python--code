{
 "cells": [
  {
   "cell_type": "code",
   "execution_count": 1,
   "id": "681d2448",
   "metadata": {},
   "outputs": [
    {
     "name": "stdout",
     "output_type": "stream",
     "text": [
      "which sentence would you like copiedDon't behave like a muppet in the class\n",
      "Don't behave like a muppet in the class\n",
      "Don't behave like a muppet in the class\n",
      "Don't behave like a muppet in the class\n",
      "Don't behave like a muppet in the class\n",
      "Don't behave like a muppet in the class\n",
      "Don't behave like a muppet in the class\n",
      "Don't behave like a muppet in the class\n",
      "Don't behave like a muppet in the class\n",
      "Don't behave like a muppet in the class\n",
      "Don't behave like a muppet in the class\n",
      "Don't behave like a muppet in the class\n",
      "Don't behave like a muppet in the class\n",
      "Don't behave like a muppet in the class\n",
      "Don't behave like a muppet in the class\n",
      "Don't behave like a muppet in the class\n",
      "Don't behave like a muppet in the class\n",
      "Don't behave like a muppet in the class\n",
      "Don't behave like a muppet in the class\n",
      "Don't behave like a muppet in the class\n",
      "Don't behave like a muppet in the class\n"
     ]
    }
   ],
   "source": [
    "#pro28\n",
    "a=str(input('which sentence would you like copied'))\n",
    "for counter in range(20):\n",
    "    print(a)"
   ]
  },
  {
   "cell_type": "code",
   "execution_count": 2,
   "id": "0202c2ee",
   "metadata": {},
   "outputs": [
    {
     "name": "stdout",
     "output_type": "stream",
     "text": [
      "plz enter the first amount raised398\n",
      "plz enter the second amount raised193\n",
      "plz enter the third amount raised478\n",
      "A total of 1069 was raised\n",
      "This will be doubled to:\n",
      "2138 !!!\n",
      "2138 !!!\n",
      "2138 !!!\n"
     ]
    }
   ],
   "source": [
    "#pro-29\n",
    "a=int(input('plz enter the first amount raised'))\n",
    "d=int(input('plz enter the second amount raised'))\n",
    "h=int(input('plz enter the third amount raised'))\n",
    "print('A total of',a+d+h,'was raised')\n",
    "print('This will be doubled to:')\n",
    "r=2*(a+d+h)\n",
    "for counter in range(3):\n",
    "    print(r,'!!!')"
   ]
  },
  {
   "cell_type": "code",
   "execution_count": 1,
   "id": "58664be4",
   "metadata": {},
   "outputs": [
    {
     "name": "stdout",
     "output_type": "stream",
     "text": [
      "plz enter the first nameMatt\n",
      "plz enter the second nameReid\n",
      "M R MATT reid MattReid\n",
      "MattReid REID matt m r\n",
      "M R MATT reid MattReid\n",
      "MattReid REID matt m r\n",
      "M R MATT reid MattReid\n",
      "MattReid REID matt m r\n"
     ]
    }
   ],
   "source": [
    "#pro-30\n",
    "a=str(input('plz enter the first name'))\n",
    "k=str(input('plz enter the second name'))\n",
    "for c in range(3):\n",
    "    print(a[:1],k[:1],a.upper(),k.lower(),a+k)\n",
    "    print(a+k,k.upper(),a.lower(),a[:1].lower(),k[:1].lower())"
   ]
  },
  {
   "cell_type": "code",
   "execution_count": 2,
   "id": "e4e32d2f",
   "metadata": {},
   "outputs": [
    {
     "name": "stdout",
     "output_type": "stream",
     "text": [
      "plz enter the score for each ball0\n",
      "plz enter the score for each ball2\n",
      "plz enter the score for each ball0\n",
      "plz enter the score for each ball0\n",
      "plz enter the score for each ball4\n",
      "plz enter the score for each ball6\n",
      "This over's score was: 12\n"
     ]
    }
   ],
   "source": [
    "#pro=31\n",
    "s=0\n",
    "for l in range(6):\n",
    "    m=int(input('plz enter the score for each ball'))\n",
    "    s=s+m\n",
    "print(\"This over's score was:\",s )"
   ]
  },
  {
   "cell_type": "code",
   "execution_count": 7,
   "id": "3efe3293",
   "metadata": {},
   "outputs": [
    {
     "name": "stdout",
     "output_type": "stream",
     "text": [
      "plz enter seven temperatures12\n",
      "plz enter seven temperatures14\n",
      "plz enter seven temperatures7\n",
      "plz enter seven temperatures6\n",
      "plz enter seven temperatures7\n",
      "plz enter seven temperatures11\n",
      "plz enter seven temperatures11\n",
      "This week's average was:\n",
      "9.71 degrees centigrade\n"
     ]
    }
   ],
   "source": [
    "#pro-32\n",
    "s=0\n",
    "for l in range(7):\n",
    "    m=int(input('plz enter seven temperatures'))\n",
    "    s=s+m/7\n",
    "print(\"This week's average was:\")\n",
    "print(round(s,2),'degrees centigrade')"
   ]
  },
  {
   "cell_type": "code",
   "execution_count": 8,
   "id": "330d00f4",
   "metadata": {},
   "outputs": [
    {
     "name": "stdout",
     "output_type": "stream",
     "text": [
      "which sentence would you like copiedMr Reid is the best teacher\n",
      "How many times would like this copied54\n",
      "Mr Reid is the best teacher\n",
      "Mr Reid is the best teacher\n",
      "Mr Reid is the best teacher\n",
      "Mr Reid is the best teacher\n",
      "Mr Reid is the best teacher\n",
      "Mr Reid is the best teacher\n",
      "Mr Reid is the best teacher\n",
      "Mr Reid is the best teacher\n",
      "Mr Reid is the best teacher\n",
      "Mr Reid is the best teacher\n",
      "Mr Reid is the best teacher\n",
      "Mr Reid is the best teacher\n",
      "Mr Reid is the best teacher\n",
      "Mr Reid is the best teacher\n",
      "Mr Reid is the best teacher\n",
      "Mr Reid is the best teacher\n",
      "Mr Reid is the best teacher\n",
      "Mr Reid is the best teacher\n",
      "Mr Reid is the best teacher\n",
      "Mr Reid is the best teacher\n",
      "Mr Reid is the best teacher\n",
      "Mr Reid is the best teacher\n",
      "Mr Reid is the best teacher\n",
      "Mr Reid is the best teacher\n",
      "Mr Reid is the best teacher\n",
      "Mr Reid is the best teacher\n",
      "Mr Reid is the best teacher\n",
      "Mr Reid is the best teacher\n",
      "Mr Reid is the best teacher\n",
      "Mr Reid is the best teacher\n",
      "Mr Reid is the best teacher\n",
      "Mr Reid is the best teacher\n",
      "Mr Reid is the best teacher\n",
      "Mr Reid is the best teacher\n",
      "Mr Reid is the best teacher\n",
      "Mr Reid is the best teacher\n",
      "Mr Reid is the best teacher\n",
      "Mr Reid is the best teacher\n",
      "Mr Reid is the best teacher\n",
      "Mr Reid is the best teacher\n",
      "Mr Reid is the best teacher\n",
      "Mr Reid is the best teacher\n",
      "Mr Reid is the best teacher\n",
      "Mr Reid is the best teacher\n",
      "Mr Reid is the best teacher\n",
      "Mr Reid is the best teacher\n",
      "Mr Reid is the best teacher\n",
      "Mr Reid is the best teacher\n",
      "Mr Reid is the best teacher\n",
      "Mr Reid is the best teacher\n",
      "Mr Reid is the best teacher\n",
      "Mr Reid is the best teacher\n",
      "Mr Reid is the best teacher\n",
      "Mr Reid is the best teacher\n"
     ]
    }
   ],
   "source": [
    "#pro-33\n",
    "a=str(input('which sentence would you like copied'))\n",
    "s=int(input('How many times would like this copied'))\n",
    "for l in range(s):\n",
    "    print(a)"
   ]
  },
  {
   "cell_type": "code",
   "execution_count": 10,
   "id": "59f5bd2e",
   "metadata": {},
   "outputs": [
    {
     "name": "stdout",
     "output_type": "stream",
     "text": [
      "How many charity raisers were there6\n",
      "238\n",
      "624\n",
      "546\n",
      "333\n",
      "651\n",
      "174\n",
      "The total of 2566 was raised\n",
      "This will be increased to:\n",
      "4566 !!!\n",
      "4566 !!!\n",
      "4566 !!!\n"
     ]
    }
   ],
   "source": [
    "#pro-34\n",
    "a=int(input('How many charity raisers were there'))  \n",
    "#enter the total raised by each\n",
    "s=0\n",
    "for l in range(a):\n",
    "    g=int(input())\n",
    "    s=s+g\n",
    "print('The total of',s,'was raised')\n",
    "print('This will be increased to:')\n",
    "d=s+2000\n",
    "for t in range(3):\n",
    "    print(d,'!!!')"
   ]
  },
  {
   "cell_type": "code",
   "execution_count": 18,
   "id": "bce700e9",
   "metadata": {},
   "outputs": [
    {
     "name": "stdout",
     "output_type": "stream",
     "text": [
      "plz enter the number of students3\n",
      "Student 1\n",
      "82\n",
      "Student 2\n",
      "67\n",
      "Student 3\n",
      "45\n",
      "The average time for the 3 students was:\n",
      "64.67 seconds\n"
     ]
    }
   ],
   "source": [
    "#pro-35\n",
    "a=int(input('plz enter the number of students'))\n",
    "#enter the time in seconds for each student\n",
    "t=0\n",
    "for loop in range(1,a+1):\n",
    "    print('Student',loop)\n",
    "    d=int(input())\n",
    "    t=t+d/a\n",
    "print('The average time for the',a,'students was:')\n",
    "\n",
    "print(round(t,2),'seconds')"
   ]
  },
  {
   "cell_type": "code",
   "execution_count": 19,
   "id": "f29a65a8",
   "metadata": {},
   "outputs": [
    {
     "name": "stdout",
     "output_type": "stream",
     "text": [
      "odd numbers list\n",
      "1\n",
      "3\n",
      "5\n",
      "7\n",
      "9\n",
      "11\n"
     ]
    }
   ],
   "source": [
    "#pro-36\n",
    "print('odd numbers list')\n",
    "for counter in range(1,12,2):\n",
    "    print(counter)"
   ]
  },
  {
   "cell_type": "code",
   "execution_count": 20,
   "id": "bd38664f",
   "metadata": {},
   "outputs": [
    {
     "name": "stdout",
     "output_type": "stream",
     "text": [
      "Enter the first number in the list5\n",
      "enter the last number in the list13\n",
      "5\n",
      "7\n",
      "9\n",
      "11\n",
      "13\n"
     ]
    }
   ],
   "source": [
    "#pro-37\n",
    "a=int(input('Enter the first number in the list'))\n",
    "s=int(input('enter the last number in the list'))\n",
    "for counter in range(a,s+1,2):\n",
    "    print(counter)"
   ]
  },
  {
   "cell_type": "code",
   "execution_count": 2,
   "id": "80a1dfc2",
   "metadata": {},
   "outputs": [
    {
     "name": "stdout",
     "output_type": "stream",
     "text": [
      "plz enter the passwordsnool\n",
      "sorry, incorrect! Try again\n",
      "plz enter the passwordornery\n",
      "Entry gained!\n"
     ]
    }
   ],
   "source": [
    "#pro-38\n",
    "a=str(input('plz enter the password'))\n",
    "while a!='ornery':\n",
    "        print('sorry, incorrect! Try again')\n",
    "        a=str(input('plz enter the password'))\n",
    "print('Entry gained!')"
   ]
  },
  {
   "cell_type": "code",
   "execution_count": 13,
   "id": "74b0cdce",
   "metadata": {},
   "outputs": [
    {
     "name": "stdout",
     "output_type": "stream",
     "text": [
      "enter the first number in the list5\n",
      "plz enter the last number in the list17\n",
      "sorry the number must be at least 5+20\n",
      "plz re-enter the number27\n",
      "Odd number list\n",
      "5\n",
      "7\n",
      "9\n",
      "11\n",
      "13\n",
      "15\n",
      "17\n",
      "19\n",
      "21\n",
      "23\n",
      "25\n"
     ]
    }
   ],
   "source": [
    "#pro-39\n",
    "a=int(input('enter the first number in the list'))\n",
    "s=int(input('plz enter the last number in the list'))\n",
    "while not s>=27:\n",
    "    print('sorry the number must be at least 5+20')\n",
    "    s=int(input('plz re-enter the number'))\n",
    "print('Odd number list')\n",
    "for l in range(a,s,2):\n",
    "    print(l)"
   ]
  },
  {
   "cell_type": "code",
   "execution_count": null,
   "id": "ce7b0282",
   "metadata": {},
   "outputs": [],
   "source": []
  },
  {
   "cell_type": "code",
   "execution_count": 17,
   "id": "2d0ea030",
   "metadata": {},
   "outputs": [
    {
     "name": "stdout",
     "output_type": "stream",
     "text": [
      "plz enter the price of each present35\n",
      "plz enter the price of each present100\n",
      "plz enter the price of each present50\n",
      "plz enter the price of each present45\n",
      "Limit Exceeded\n",
      "you can't include the 45 present\n"
     ]
    }
   ],
   "source": [
    "#pro-41\n",
    "s=0\n",
    "while not s>200:\n",
    "    m=int(input('plz enter the price of each present'))\n",
    "    s=s+m\n",
    "print('Limit Exceeded')\n",
    "print(\"you can't include the\",m,\"present\")"
   ]
  },
  {
   "cell_type": "code",
   "execution_count": 22,
   "id": "85ce1840",
   "metadata": {},
   "outputs": [
    {
     "name": "stdout",
     "output_type": "stream",
     "text": [
      "enter your menu choiceg\n",
      "G is not valid.Enter Q,A,K,L\n",
      "enter your menu choicel\n",
      "L selected\n"
     ]
    }
   ],
   "source": [
    "#pro-42\n",
    "while True:\n",
    "    w=str(input('enter your menu choice'))\n",
    "    w=w.upper()\n",
    "    if w=='Q' or w=='A'or w==\"K\" or w==\"L\":\n",
    "        print(w,\"selected\")\n",
    "        break\n",
    "      \n",
    "    else:\n",
    "        print(w,'is not valid.Enter Q,A,K,L')\n",
    "        continue"
   ]
  },
  {
   "cell_type": "code",
   "execution_count": 1,
   "id": "92977565",
   "metadata": {},
   "outputs": [
    {
     "name": "stdout",
     "output_type": "stream",
     "text": [
      "enter your guess112\n",
      "Your guess is too high.Try again\n",
      "enter your guess67\n",
      "Your guess is too high.Try again\n",
      "enter your guess50\n",
      "Your guess is too low.Try again\n",
      "enter your guess52\n",
      "Correct! Well Done\n"
     ]
    }
   ],
   "source": [
    "#pro-43\n",
    "while True:\n",
    "    m=int(input('enter your guess'))\n",
    "    if m==52:\n",
    "        print('Correct! Well Done')\n",
    "        break\n",
    "    elif m<52:\n",
    "        print('Your guess is too low.Try again')\n",
    "        \n",
    "    elif m>52:\n",
    "        print('Your guess is too high.Try again')\n",
    "        \n",
    "    elif m>100:\n",
    "        print('Your guess is not valid.Try again')\n",
    "    "
   ]
  },
  {
   "cell_type": "code",
   "execution_count": null,
   "id": "9a30ca5c",
   "metadata": {},
   "outputs": [],
   "source": [
    "#pro-44\n",
    "s=0\n",
    "for l in range(7):\n",
    "    m=int(input('plz enter seven temperatures'))\n",
    "    s=s+m/7\n",
    "print(\"This week's average was:\")\n",
    "print(round(s,2),'degrees centigrade')"
   ]
  },
  {
   "cell_type": "code",
   "execution_count": 1,
   "id": "31c5fd48",
   "metadata": {},
   "outputs": [
    {
     "name": "stdout",
     "output_type": "stream",
     "text": [
      "plz enter the score for player 1\n",
      "34\n",
      "26\n",
      "200\n",
      "Invalid score\n",
      "100\n",
      "plz enter the score for player 2\n",
      "78\n",
      "80\n",
      "97\n"
     ]
    }
   ],
   "source": [
    "#pro-45\n",
    "for loop in range(1,3):\n",
    "    print('plz enter the score for player',loop)\n",
    "    for k in range(3):\n",
    "        m=int(input())\n",
    "        while not(m<180 and m>0):\n",
    "            print('Invalid score')\n",
    "            m=int(input())"
   ]
  },
  {
   "cell_type": "code",
   "execution_count": null,
   "id": "f9ed4990",
   "metadata": {},
   "outputs": [],
   "source": []
  }
 ],
 "metadata": {
  "kernelspec": {
   "display_name": "Python 3 (ipykernel)",
   "language": "python",
   "name": "python3"
  },
  "language_info": {
   "codemirror_mode": {
    "name": "ipython",
    "version": 3
   },
   "file_extension": ".py",
   "mimetype": "text/x-python",
   "name": "python",
   "nbconvert_exporter": "python",
   "pygments_lexer": "ipython3",
   "version": "3.9.7"
  }
 },
 "nbformat": 4,
 "nbformat_minor": 5
}
