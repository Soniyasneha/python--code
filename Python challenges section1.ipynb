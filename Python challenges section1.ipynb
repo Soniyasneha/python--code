{
 "cells": [
  {
   "cell_type": "code",
   "execution_count": 1,
   "id": "0b2a4a58",
   "metadata": {},
   "outputs": [
    {
     "name": "stdout",
     "output_type": "stream",
     "text": [
      "plz enter ur nameLister\n",
      "enter ur age39\n",
      "fav showRed Dwarf\n",
      "Lister\n",
      "is\n",
      "39\n",
      "years old and likes\n",
      "Red Dwarf\n"
     ]
    }
   ],
   "source": [
    "a=input('plz enter ur name')\n",
    "b=input('enter ur age')\n",
    "c=input('fav show')\n",
    "print(a)\n",
    "print('is')\n",
    "print(b)\n",
    "print('years old and likes')\n",
    "print(c)"
   ]
  },
  {
   "cell_type": "code",
   "execution_count": 2,
   "id": "ad5dbf30",
   "metadata": {},
   "outputs": [
    {
     "name": "stdout",
     "output_type": "stream",
     "text": [
      "Tennant David\n"
     ]
    }
   ],
   "source": [
    "#pro-2\n",
    "a='David'\n",
    "c='Tennant'\n",
    "print(c,a)"
   ]
  },
  {
   "cell_type": "code",
   "execution_count": 3,
   "id": "2fd06521",
   "metadata": {},
   "outputs": [
    {
     "name": "stdout",
     "output_type": "stream",
     "text": [
      "enter ur nameLister\n",
      "enter ur age39\n",
      "fav tv showRed Dwarf\n",
      "Lister 39\n",
      "likes watching Red Dwarf\n"
     ]
    }
   ],
   "source": [
    "#pro-3\n",
    "a=input(\"enter ur name\")\n",
    "f=input('enter ur age')\n",
    "o=input('fav tv show') \n",
    "print(a,f)\n",
    "print('likes watching',o)"
   ]
  },
  {
   "cell_type": "code",
   "execution_count": 4,
   "id": "21d1633e",
   "metadata": {},
   "outputs": [
    {
     "name": "stdout",
     "output_type": "stream",
     "text": [
      "KY8 9HL\n"
     ]
    }
   ],
   "source": [
    "#pro-7\n",
    "a='KY'\n",
    "b=str(8)\n",
    "p=str(9)\n",
    "l='HL'\n",
    "print(a+b,p+l)\n"
   ]
  },
  {
   "cell_type": "code",
   "execution_count": 5,
   "id": "9281b00d",
   "metadata": {},
   "outputs": [
    {
     "name": "stdout",
     "output_type": "stream",
     "text": [
      "plz entr the lengthof rectangle in cm12\n",
      "plz enter the width of the rectangle6\n",
      "The area of the rectangle is:\n",
      "72 square centimeters\n"
     ]
    }
   ],
   "source": [
    "#pro-5\n",
    "q=int(input('plz entr the lengthof rectangle in cm'))\n",
    "o=int(input('plz enter the width of the rectangle'))\n",
    "print('The area of the rectangle is:')\n",
    "print(q*o,'square centim6eters')"
   ]
  },
  {
   "cell_type": "code",
   "execution_count": 6,
   "id": "31ee6f0d",
   "metadata": {},
   "outputs": [
    {
     "name": "stdout",
     "output_type": "stream",
     "text": [
      "enter the no2\n",
      "enter no.6\n",
      "26\n"
     ]
    }
   ],
   "source": [
    "#pro-6\n",
    "a=input('enter the no')\n",
    "o=input('enter no.')\n",
    "print(a+o)"
   ]
  },
  {
   "cell_type": "code",
   "execution_count": 1,
   "id": "649e6d5b",
   "metadata": {},
   "outputs": [
    {
     "name": "stdout",
     "output_type": "stream",
     "text": [
      "enter letterKY\n",
      "enter no.8\n",
      "enter no.9\n",
      "enter letterHL\n",
      "KY8 9hl\n"
     ]
    }
   ],
   "source": [
    "#pro-7\n",
    "a=input('enter letter')\n",
    "g=input('enter no.')\n",
    "o=input('enter no.')\n",
    "l=input('enter letter')\n",
    "print(a+g,o+l.lower())\n"
   ]
  },
  {
   "cell_type": "code",
   "execution_count": 2,
   "id": "8ca9f431",
   "metadata": {},
   "outputs": [
    {
     "name": "stdout",
     "output_type": "stream",
     "text": [
      "plz enter ur forenameDavid\n",
      "enter ur surnameScott\n",
      "There are 10 letters in your name\n"
     ]
    }
   ],
   "source": [
    "#pro-8\n",
    "a=input('plz enter ur forename')\n",
    "b=input('enter ur surname')\n",
    "print('There are',len(a)+len(b),'letters in your name')\n"
   ]
  },
  {
   "cell_type": "code",
   "execution_count": 3,
   "id": "e6d92a84",
   "metadata": {},
   "outputs": [
    {
     "name": "stdout",
     "output_type": "stream",
     "text": [
      "plz enter a sentenceLuke,I am your father\n",
      "Your sentence contained the following\n",
      "a= 2\n",
      "e= 2\n",
      "i= 0\n",
      "o= 1\n",
      "u= 2\n",
      "tThis ts total of 7 vowels\n"
     ]
    }
   ],
   "source": [
    "#pro-9\n",
    "q=input('plz enter a sentence')\n",
    "a=q.count('a')\n",
    "e=q.count('e')\n",
    "i=q.count('i')\n",
    "o=q.count('o')\n",
    "u=q.count('u')\n",
    "print('Your sentence contained the following')\n",
    "\n",
    "print('a=',a)\n",
    "print('e=',e)\n",
    "print('i=',i)\n",
    "print('o=',o)\n",
    "print('u=',u)\n",
    "print('tThis ts total of',a+e+i+o+u,'vowels')\n"
   ]
  },
  {
   "cell_type": "code",
   "execution_count": 4,
   "id": "766d1769",
   "metadata": {},
   "outputs": [
    {
     "name": "stdout",
     "output_type": "stream",
     "text": [
      "plz enter a sentenceLuke,I am your father\n",
      "Your sentence contained the following\n",
      "a= 2\n",
      "e= 2\n",
      "i= 1\n",
      "o= 1\n",
      "u= 2\n",
      "tThis ts total of 8 vowels\n"
     ]
    }
   ],
   "source": [
    "#pro-9\n",
    "q=input('plz enter a sentence')\n",
    "a=q.count('a')\n",
    "e=q.count('e')\n",
    "i=q.count('I')\n",
    "o=q.count('o')\n",
    "u=q.count('u')\n",
    "print('Your sentence contained the following')\n",
    "\n",
    "print('a=',a)\n",
    "print('e=',e)\n",
    "print('i=',i)\n",
    "print('o=',o)\n",
    "print('u=',u)\n",
    "print('tThis ts total of',a+e+i+o+u,'vowels')\n"
   ]
  },
  {
   "cell_type": "code",
   "execution_count": 5,
   "id": "68527c2f",
   "metadata": {},
   "outputs": [
    {
     "name": "stdout",
     "output_type": "stream",
     "text": [
      "plz enter the reportHe should always ensure that his answers contain as much a detail as possible\n",
      "She should always ensure that her answers contain as much a detail as possible\n"
     ]
    }
   ],
   "source": [
    "#pro-10\n",
    "r=input ('plz enter the report')\n",
    "a=r.replace('He','She')\n",
    "a=a.replace('his','her')\n",
    "print(a)"
   ]
  },
  {
   "cell_type": "code",
   "execution_count": 6,
   "id": "3d6fa7bb",
   "metadata": {},
   "outputs": [
    {
     "name": "stdout",
     "output_type": "stream",
     "text": [
      "plz enter the product namePlaza Beans\n",
      "enter the year2016\n",
      "the stock code for Plaza Beans is:\n",
      "Plns26\n"
     ]
    }
   ],
   "source": [
    "#pro-11\n",
    "a=input('plz enter the product name')\n",
    "g=input('enter the year')\n",
    "print('the stock code for Plaza Beans is:')\n",
    "print(a[:2]+a[-2:]+g[:1]+g[-1:])"
   ]
  },
  {
   "cell_type": "code",
   "execution_count": 7,
   "id": "7341f3ac",
   "metadata": {},
   "outputs": [
    {
     "name": "stdout",
     "output_type": "stream",
     "text": [
      "The the total is 54.09\n",
      "THe auction companies\n",
      "fee is 5.0\n"
     ]
    }
   ],
   "source": [
    "#pro-12\n",
    "a=12.78\n",
    "l=6.32\n",
    "o=34.99\n",
    "t=a+l+o\n",
    "k=t*10/100\n",
    "print('The the total is',t)\n",
    "print('THe auction companies')\n",
    "print('fee is',round(k,0))\n"
   ]
  },
  {
   "cell_type": "code",
   "execution_count": 8,
   "id": "d33a3e6f",
   "metadata": {},
   "outputs": [
    {
     "name": "stdout",
     "output_type": "stream",
     "text": [
      "plz enter the radius of circle in cm16\n",
      "The area of the circle is:\n",
      "803.84 square centimeters\n"
     ]
    }
   ],
   "source": [
    "#pro-13\n",
    "r=int(input('plz enter the radius of circle in cm'))\n",
    "a=3.14*pow(r,2)\n",
    "print('The area of the circle is:')\n",
    "print(a,'square centimeters')"
   ]
  },
  {
   "cell_type": "code",
   "execution_count": 10,
   "id": "f6ef6ee7",
   "metadata": {},
   "outputs": [
    {
     "name": "stdout",
     "output_type": "stream",
     "text": [
      "plz enter the volume of jar in cm32712.96\n",
      "plz enter the volume of one sweet in cm32.12\n",
      "1279 sweets fit into the jar\n"
     ]
    }
   ],
   "source": [
    "#pro-14\n",
    "a=float(input('plz enter the volume of jar in cm3'))\n",
    "d=float(input('plz enter the volume of one sweet in cm3'))\n",
    "print(int(a/d),'sweets fit into the jar')"
   ]
  },
  {
   "cell_type": "code",
   "execution_count": 11,
   "id": "417fb84d",
   "metadata": {},
   "outputs": [
    {
     "name": "stdout",
     "output_type": "stream",
     "text": [
      "enter the area in m^2 to be painted178\n",
      "enter the area in m^2 that asingle pot covers25\n",
      "you will need 7 pots of paint\n",
      "you can paint 3 m2 with the leftover paint\n"
     ]
    }
   ],
   "source": [
    "#pro-15\n",
    "a=int(input('enter the area in m^2 to be painted'))\n",
    "s=int(input('enter the area in m^2 that asingle pot covers'))\n",
    "print('you will need',int(a/s),'pots of paint')\n",
    "print('you can paint',a%s,'m2 with the leftover paint')"
   ]
  },
  {
   "cell_type": "code",
   "execution_count": 12,
   "id": "5e37cef8",
   "metadata": {},
   "outputs": [
    {
     "name": "stdout",
     "output_type": "stream",
     "text": [
      "plz enter the length of brick in cm20\n",
      "plz enter the length of the wallin m9.89\n",
      "47 bricks build onerow of wall\n",
      "This is 2.0 cm short of the required wall length\n"
     ]
    }
   ],
   "source": [
    "#pro-16\n",
    "a=int(input('plz enter the length of brick in cm'))\n",
    "s=float(input('plz enter the length of the wallin m'))\n",
    "w=s/((a+1)/100)\n",
    "h=s*100%(a+1)\n",
    "print(int(w),'bricks build onerow of wall')\n",
    "print('This is',h,'cm short of the required wall length')"
   ]
  },
  {
   "cell_type": "code",
   "execution_count": 13,
   "id": "485138d6",
   "metadata": {},
   "outputs": [
    {
     "name": "stdout",
     "output_type": "stream",
     "text": [
      "enter the no of carbon atoms3\n",
      "The atomic mass of C3H8is 44\n"
     ]
    }
   ],
   "source": [
    "#pro-17\n",
    "c=int(input('enter the no of carbon atoms'))\n",
    "h=(c*2)+2\n",
    "n=12*c+h\n",
    "print('The atomic mass of C3H8is',n)"
   ]
  },
  {
   "cell_type": "code",
   "execution_count": 14,
   "id": "e2b1a6c6",
   "metadata": {},
   "outputs": [
    {
     "name": "stdout",
     "output_type": "stream",
     "text": [
      "how many par 3 holes are there6\n",
      "how many par 4 holes are there10\n",
      "how many par 5 holes are there2\n",
      "what is the difficulty adjustment for the course-2\n",
      "The Standard Scratch score for the course is:\n",
      "66\n"
     ]
    }
   ],
   "source": [
    "#pro-18\n",
    "a=int(input('how many par 3 holes are there'))\n",
    "s=int(input('how many par 4 holes are there'))\n",
    "d=int(input('how many par 5 holes are there'))\n",
    "f=int(input('what is the difficulty adjustment for the course'))\n",
    "print('The Standard Scratch score for the course is:')\n",
    "print(a*3+s*4+d*5+f)\n"
   ]
  },
  {
   "cell_type": "code",
   "execution_count": 15,
   "id": "667fb8e4",
   "metadata": {
    "scrolled": true
   },
   "outputs": [
    {
     "name": "stdout",
     "output_type": "stream",
     "text": [
      "what is the circumference of ur wheel in millimeters1250\n",
      "How wheel revolutions have taken place in your journey8920\n",
      "How many minutes did you cycle for30\n",
      "you covered 11.15 km\n",
      "At an average speed of 22.3\n"
     ]
    }
   ],
   "source": [
    "#pro-19\n",
    "r=int(input('what is the circumference of ur wheel in millimeters'))\n",
    "f=int(input('How wheel revolutions have taken place in your journey'))\n",
    "t=int(input('How many minutes did you cycle for'))\n",
    "d=(r/1000000)*f\n",
    "print('you covered',d,'km')\n",
    "print('At an average speed of',d*60/t)"
   ]
  },
  {
   "cell_type": "code",
   "execution_count": 16,
   "id": "95978970",
   "metadata": {},
   "outputs": [
    {
     "name": "stdout",
     "output_type": "stream",
     "text": [
      "plz enter a sentenceLuke, I am your father\n",
      "Your sentence contained the following\n",
      "a= 2\n",
      "e= 2\n",
      "i= 1\n",
      "o= 1\n",
      "u= 2\n",
      "tThis ts total of 8 vowels\n"
     ]
    }
   ],
   "source": [
    "#pro-9\n",
    "q=input('plz enter a sentence')\n",
    "q=q.lower()\n",
    "a=q.count('a')\n",
    "e=q.count('e')\n",
    "i=q.count('i')\n",
    "o=q.count('o')\n",
    "u=q.count('u')\n",
    "print('Your sentence contained the following')\n",
    "\n",
    "print('a=',a)\n",
    "print('e=',e)\n",
    "print('i=',i)\n",
    "print('o=',o)\n",
    "print('u=',u)\n",
    "print('tThis ts total of',a+e+i+o+u,'vowels')\n"
   ]
  },
  {
   "cell_type": "code",
   "execution_count": null,
   "id": "34d5935e",
   "metadata": {},
   "outputs": [],
   "source": []
  }
 ],
 "metadata": {
  "kernelspec": {
   "display_name": "Python 3 (ipykernel)",
   "language": "python",
   "name": "python3"
  },
  "language_info": {
   "codemirror_mode": {
    "name": "ipython",
    "version": 3
   },
   "file_extension": ".py",
   "mimetype": "text/x-python",
   "name": "python",
   "nbconvert_exporter": "python",
   "pygments_lexer": "ipython3",
   "version": "3.9.7"
  }
 },
 "nbformat": 4,
 "nbformat_minor": 5
}
