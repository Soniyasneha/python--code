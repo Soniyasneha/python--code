{
 "cells": [
  {
   "cell_type": "code",
   "execution_count": 1,
   "id": "da4506ca",
   "metadata": {},
   "outputs": [
    {
     "name": "stdout",
     "output_type": "stream",
     "text": [
      "would u like some advicey\n",
      "Always know where your towel is\n"
     ]
    }
   ],
   "source": [
    "#pro-20\n",
    "a=str(input('would u like some advice'))\n",
    "if a=='y':\n",
    "    print('Always know where your towel is')"
   ]
  },
  {
   "cell_type": "code",
   "execution_count": 2,
   "id": "b8a82900",
   "metadata": {},
   "outputs": [
    {
     "name": "stdout",
     "output_type": "stream",
     "text": [
      "what is black's score88\n",
      "what is white's score84\n",
      "After 6.5 is added the score:\n",
      "Black- 88\n",
      "White- 90.5\n",
      "White is the winner\n"
     ]
    }
   ],
   "source": [
    "#pro-21\n",
    "b=int(input(\"what is black's score\"))\n",
    "w=int(input(\"what is white's score\"))\n",
    "c=w+6.5\n",
    "print('After 6.5 is added the score:')\n",
    "print('Black-',b)\n",
    "print('White-',c)\n",
    "if b>c:\n",
    "    print('Black is the winner')\n",
    "else:\n",
    "    print('White is the winner')"
   ]
  },
  {
   "cell_type": "code",
   "execution_count": 3,
   "id": "3b3591a1",
   "metadata": {},
   "outputs": [
    {
     "name": "stdout",
     "output_type": "stream",
     "text": [
      "plz enter the first amount raised398\n",
      "plz enter the second amount raised193\n",
      "plz enter the third amount raised478\n",
      "The total of 1069 was raised\n",
      "This should be doubled to 2138\n"
     ]
    }
   ],
   "source": [
    "#pro-22\n",
    "a=int(input('plz enter the first amount raised'))\n",
    "b=int(input('plz enter the second amount raised'))\n",
    "c=int(input('plz enter the third amount raised'))\n",
    "t=a+b+c\n",
    "print('The total of',t,'was raised')\n",
    "if t>=1000:\n",
    "    print('This should be doubled to',2*t)"
   ]
  },
  {
   "cell_type": "code",
   "execution_count": 4,
   "id": "4578aa46",
   "metadata": {},
   "outputs": [
    {
     "name": "stdout",
     "output_type": "stream",
     "text": [
      "plz enter the length:12\n",
      "plz enter the width:6\n",
      "plz enter the length:7\n",
      "plz enter the width:9\n",
      "Rectangle1 has the largest area\n"
     ]
    }
   ],
   "source": [
    "#pro-23\n",
    "l1=int(input('plz enter the length:'))\n",
    "w1=int(input('plz enter the width:'))\n",
    "l2=int(input('plz enter the length:'))\n",
    "w2=int(input('plz enter the width:'))\n",
    "if l1*w1<l2*w2:\n",
    "    print('Rectanle2 has the largest area')\n",
    "else:\n",
    "        print('Rectangle1 has the largest area')\n"
   ]
  },
  {
   "cell_type": "code",
   "execution_count": null,
   "id": "5a30c3d1",
   "metadata": {},
   "outputs": [],
   "source": []
  },
  {
   "cell_type": "code",
   "execution_count": 5,
   "id": "368486f1",
   "metadata": {},
   "outputs": [
    {
     "name": "stdout",
     "output_type": "stream",
     "text": [
      "would u like some advicej\n",
      "Sorry you were asked to enter y or N\n"
     ]
    }
   ],
   "source": [
    "#pro-25\n",
    "a=str(input('would u like some advice'))\n",
    "if a=='y':\n",
    "    print('Always know where your towel is')\n",
    "elif a=='N':\n",
    "    print()\n",
    "else:\n",
    "    print('Sorry you were asked to enter y or N')"
   ]
  },
  {
   "cell_type": "code",
   "execution_count": 6,
   "id": "4b61f42f",
   "metadata": {},
   "outputs": [
    {
     "name": "stdout",
     "output_type": "stream",
     "text": [
      "plz enter the test speed(50 or 30)50\n",
      "plz enter th tested stopping distance39.7\n",
      "Your car failed the breaking distance test\n"
     ]
    }
   ],
   "source": [
    "#pro-26\n",
    "s=int(input('plz enter the test speed(50 or 30)'))\n",
    "t=float(input('plz enter th tested stopping distance'))\n",
    "if (s==30and t<=14)or (s==50and t<=38):\n",
    "    print('Your car passed the breaking distance test')\n",
    "else:\n",
    "    print('Your car failed the breaking distance test')"
   ]
  },
  {
   "cell_type": "code",
   "execution_count": 7,
   "id": "20e1713c",
   "metadata": {},
   "outputs": [
    {
     "name": "stdout",
     "output_type": "stream",
     "text": [
      "would u like some adviceh\n",
      "Sorry you were asked to enter y or N\n"
     ]
    }
   ],
   "source": [
    "#pro-25\n",
    "a=str(input('would u like some advice'))\n",
    "if not(a=='y'or a=='N'):\n",
    "       print('Sorry you were asked to enter y or N')"
   ]
  },
  {
   "cell_type": "code",
   "execution_count": null,
   "id": "f7004a77",
   "metadata": {},
   "outputs": [],
   "source": []
  }
 ],
 "metadata": {
  "kernelspec": {
   "display_name": "Python 3 (ipykernel)",
   "language": "python",
   "name": "python3"
  },
  "language_info": {
   "codemirror_mode": {
    "name": "ipython",
    "version": 3
   },
   "file_extension": ".py",
   "mimetype": "text/x-python",
   "name": "python",
   "nbconvert_exporter": "python",
   "pygments_lexer": "ipython3",
   "version": "3.9.7"
  }
 },
 "nbformat": 4,
 "nbformat_minor": 5
}
